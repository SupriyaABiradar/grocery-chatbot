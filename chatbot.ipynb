{
 "cells": [
  {
   "cell_type": "code",
   "execution_count": null,
   "metadata": {},
   "outputs": [
    {
     "name": "stderr",
     "output_type": "stream",
     "text": [
      "[nltk_data] Downloading package punkt to\n",
      "[nltk_data]     C:\\Users\\Lenovo\\AppData\\Roaming\\nltk_data...\n",
      "[nltk_data]   Unzipping tokenizers\\punkt.zip.\n"
     ]
    },
    {
     "data": {
      "text/plain": [
       "True"
      ]
     },
     "execution_count": 1,
     "metadata": {},
     "output_type": "execute_result"
    }
   ],
   "source": [
    "import os\n",
    "import nltk\n",
    "import ssl\n",
    "import streamlit as st\n",
    "import random\n",
    "from sklearn.feature_extraction.text import TfidfVectorizer\n",
    "from sklearn.linear_model import LogisticRegression\n",
    "\n",
    "ssl._create_default_https_context = ssl._create_unverified_context\n",
    "nltk.data.path.append(os.path.abspath(\"nltk_data\"))\n",
    "nltk.download('punkt')"
   ]
  },
  {
   "cell_type": "code",
   "execution_count": null,
   "metadata": {},
   "outputs": [],
   "source": [
    "{\n",
    "    \"intents\": [\n",
    "        {\n",
    "            \"tag\": \"greeting\",\n",
    "            \"patterns\": [\"Hi\", \"Hello\", \"Hey\", \"Good morning\", \"Good evening\", \"Hi there\"],\n",
    "            \"responses\": [\"Hello! How can I assist you with your grocery shopping today?\", \"Hi! How can I help with your grocery list?\", \"Hello! What can I get for you today?\"]\n",
    "        },\n",
    "        {\n",
    "            \"tag\": \"goodbye\",\n",
    "            \"patterns\": [\"Bye\", \"See you\", \"Goodbye\", \"Take care\", \"See you later\", \"Farewell\"],\n",
    "            \"responses\": [\"Goodbye! Have a great shopping experience!\", \"Take care! Come back soon.\", \"Goodbye! Hope to see you again soon!\"]\n",
    "        },\n",
    "        {\n",
    "            \"tag\": \"thanks\",\n",
    "            \"patterns\": [\"Thanks\", \"Thank you\", \"Thanks a lot\", \"Thank you very much\"],\n",
    "            \"responses\": [\"You're welcome!\", \"No problem! Happy shopping!\", \"Anytime! Let me know if you need anything else.\"]\n",
    "        },\n",
    "        {\n",
    "            \"tag\": \"help\",\n",
    "            \"patterns\": [\"Can you help me?\", \"I need assistance\", \"Help me\", \"Can you assist me?\", \"I have a question\"],\n",
    "            \"responses\": [\"Of course! What can I help you with?\", \"I'm here to help! What do you need assistance with?\", \"Sure! How can I assist you today?\"]\n",
    "        },\n",
    "        {\n",
    "            \"tag\": \"store_hours\",\n",
    "            \"patterns\": [\"What time do you close?\", \"What are your store hours?\", \"When do you open?\", \"Are you open today?\", \"What time does the store open?\"],\n",
    "            \"responses\": [\"Our store opens at 8 AM and closes at 9 PM every day.\", \"We are open from 8 AM to 9 PM daily.\", \"Our store is open from 8 AM to 9 PM. Let me know if you need anything else!\"]\n",
    "        },\n",
    "        {\n",
    "            \"tag\": \"store_location\",\n",
    "            \"patterns\": [\"Where is the store?\", \"Where can I find you?\", \"Where is your location?\", \"How do I get to the store?\", \"Can you tell me your address?\"],\n",
    "            \"responses\": [\"Our store is located at 123 Main Street. We're easy to find!\", \"We are located at 123 Main Street. Visit us anytime!\", \"The store is at 123 Main Street. See you soon!\"]\n",
    "        },\n",
    "        {\n",
    "            \"tag\": \"discounts\",\n",
    "            \"patterns\": [\"Are there any discounts?\", \"Do you have any discounts?\", \"What are your current offers?\", \"Are there any sales happening?\"],\n",
    "            \"responses\": [\"Yes! We have a 10% discount on all fruits and vegetables today!\", \"Right now, all dairy products are 20% off.\", \"We’re running a sale on snacks! Buy one, get one free!\"]\n",
    "        },\n",
    "        {\n",
    "            \"tag\": \"vegetables\",\n",
    "            \"patterns\": [\"Do you have fresh vegetables?\", \"Where are the vegetables?\", \"Can you help me find the vegetables?\", \"Where are the carrots?\", \"Where are the tomatoes?\"],\n",
    "            \"responses\": [\"Fresh vegetables are in aisle 3. You can find carrots, tomatoes, and more there.\", \"Vegetables are in aisle 3. Let me know if you need any specific ones!\", \"The vegetable section is in aisle 3. We have a variety of fresh produce!\"]\n",
    "        },\n",
    "        {\n",
    "            \"tag\": \"fruits\",\n",
    "            \"patterns\": [\"Where can I find fruits?\", \"Do you have fresh fruits?\", \"Where are the apples?\", \"Where are the bananas?\", \"Can I get oranges here?\"],\n",
    "            \"responses\": [\"Fruits are in aisle 4. You'll find a variety of fresh fruits including apples, bananas, and oranges.\", \"Fresh fruits are in aisle 4. Let me know if you need anything else!\", \"You can find all your favorite fruits in aisle 4.\"]\n",
    "        },\n",
    "        {\n",
    "            \"tag\": \"dairy\",\n",
    "            \"patterns\": [\"Where is the dairy section?\", \"Do you have milk?\", \"Where are the eggs?\", \"Do you have cheese?\", \"Can I find butter here?\"],\n",
    "            \"responses\": [\"Dairy products are in aisle 5. You can find milk, eggs, cheese, and more.\", \"The dairy section is in aisle 5. Check out our selection of fresh milk and cheese!\", \"Dairy products are in aisle 5. We have a variety of milk, eggs, and butter.\"]\n",
    "        },\n",
    "        {\n",
    "            \"tag\": \"bakery\",\n",
    "            \"patterns\": [\"Where is the bakery?\", \"Do you have bread?\", \"Where are the cakes?\", \"Can I get some fresh bread?\", \"Do you have pastries?\"],\n",
    "            \"responses\": [\"The bakery is located in aisle 6. You can find fresh bread, cakes, and pastries.\", \"You can find freshly baked bread and pastries in aisle 6.\", \"Bakery items like bread and cakes are in aisle 6. Enjoy!\"]\n",
    "        },\n",
    "        {\n",
    "            \"tag\": \"meat\",\n",
    "            \"patterns\": [\"Where is the meat section?\", \"Do you have chicken?\", \"Where is the beef?\", \"Can I get fish here?\", \"Where is the pork?\"],\n",
    "            \"responses\": [\"The meat section is in aisle 7. We have a variety of chicken, beef, and pork.\", \"Aisle 7 has all your meat needs including chicken, beef, and fish.\", \"You can find fresh meat including chicken and beef in aisle 7.\"]\n",
    "        },\n",
    "        {\n",
    "            \"tag\": \"beverages\",\n",
    "            \"patterns\": [\"Where can I find beverages?\", \"Do you have juice?\", \"Where are the sodas?\", \"Can I get some water?\", \"Do you have coffee?\"],\n",
    "            \"responses\": [\"Beverages are in aisle 8. We have a wide variety of juices, sodas, and coffee.\", \"You can find sodas, juices, and water in aisle 8.\", \"The beverages section is in aisle 8. Enjoy a refreshing drink!\"]\n",
    "        },\n",
    "        {\n",
    "            \"tag\": \"cereal\",\n",
    "            \"patterns\": [\"Do you have cereal?\", \"Where are the cereals?\", \"Can I find oatmeal?\", \"Where are the breakfast items?\", \"Do you have granola?\"],\n",
    "            \"responses\": [\"Cereal is in aisle 9. We have a variety of options including oatmeal and granola.\", \"The cereal aisle is number 9. You’ll find many breakfast choices there!\", \"Aisle 9 has cereals like oatmeal, granola, and more.\"]\n",
    "        },\n",
    "        {\n",
    "            \"tag\": \"snacks\",\n",
    "            \"patterns\": [\"Do you have snacks?\", \"Where are the chips?\", \"Can I get cookies?\", \"Where are the nuts?\", \"Do you have chocolate?\"],\n",
    "            \"responses\": [\"Snacks are in aisle 10. We have chips, cookies, nuts, and chocolate.\", \"The snacks section is in aisle 10. Grab your favorite treats!\", \"Aisle 10 has a variety of snacks including chips and chocolate.\"]\n",
    "        },\n",
    "        {\n",
    "            \"tag\": \"frozen_food\",\n",
    "            \"patterns\": [\"Where is the frozen food?\", \"Do you have frozen pizza?\", \"Where are the frozen vegetables?\", \"Can I find ice cream?\", \"Where are frozen meals?\"],\n",
    "            \"responses\": [\"Frozen food is in aisle 11. We have pizza, ice cream, and frozen vegetables.\", \"The frozen section is in aisle 11. Check out our frozen pizzas and ice cream!\", \"Frozen meals and ice cream are in aisle 11.\"]\n",
    "        },\n",
    "        {\n",
    "            \"tag\": \"cleaning_supplies\",\n",
    "            \"patterns\": [\"Do you have cleaning supplies?\", \"Where are the cleaning products?\", \"Can I find detergent?\", \"Where are the mops?\", \"Do you have dish soap?\"],\n",
    "            \"responses\": [\"Cleaning supplies are in aisle 12. You can find detergents, mops, and dish soap.\", \"Aisle 12 has all your cleaning needs, including detergents and mops.\", \"You can find cleaning products like soap and mops in aisle 12.\"]\n",
    "        },\n",
    "        {\n",
    "            \"tag\": \"personal_care\",\n",
    "            \"patterns\": [\"Where can I find personal care products?\", \"Do you have shampoo?\", \"Where is the toothpaste?\", \"Can I find soap?\", \"Do you have deodorant?\"],\n",
    "            \"responses\": [\"Personal care products are in aisle 13. We have shampoo, toothpaste, and soap.\", \"Aisle 13 has everything for personal care, including shampoo and deodorant.\", \"You can find personal care items like soap and toothpaste in aisle 13.\"]\n",
    "        },\n",
    "        {\n",
    "            \"tag\": \"pet_supplies\",\n",
    "            \"patterns\": [\"Do you have pet supplies?\", \"Where are the pet foods?\", \"Can I get dog food?\", \"Where are the cat litter?\", \"Do you have pet toys?\"],\n",
    "            \"responses\": [\"Pet supplies are in aisle 14. You’ll find pet food, toys, and litter.\", \"The pet section is in aisle 14. We have food, toys, and litter for your pets.\", \"Aisle 14 has everything for your pets, including food and litter.\"]\n",
    "        },\n",
    "        {\n",
    "            \"tag\": \"questions\",\n",
    "            \"patterns\": [\"Can you tell me more about this item?\", \"What is this?\", \"Can you explain this product?\", \"Tell me more about this product\", \"Is this organic?\"],\n",
    "            \"responses\": [\"Let me know what you're interested in, and I can provide more information!\", \"I can help you find more details about any item. Which one?\"]\n",
    "        },\n",
    "        {\n",
    "            \"tag\": \"payment_methods\",\n",
    "            \"patterns\": [\"What payment methods do you accept?\", \"How can I pay?\", \"Do you accept credit cards?\", \"Can I pay with PayPal?\"],\n",
    "            \"responses\": [\"We accept credit cards, debit cards, and mobile payments like PayPal and Apple Pay.\", \"You can pay using a credit card, debit card, or PayPal.\", \"We accept all major credit and debit cards, and PayPal.\"]\n",
    "        },\n",
    "        {\n",
    "            \"tag\": \"delivery\",\n",
    "            \"patterns\": [\"Do you offer delivery?\", \"Can you deliver groceries?\", \"Do you have home delivery?\", \"Can I get my order delivered?\", \"How does the delivery work?\"],\n",
    "            \"responses\": [\"Yes, we offer home delivery. Just add items to your cart, and we'll handle the rest!\", \"We provide home delivery for all your grocery orders!\", \"Delivery is available for all orders. Let us know what you need.\"]\n",
    "        },\n",
    "        {\n",
    "            \"tag\": \"return_policy\",\n",
    "            \"patterns\": [\"What is your return policy?\", \"How can I return an item?\", \"Can I return a product?\", \"What are your return rules?\", \"How do I return something?\"],\n",
    "            \"responses\": [\"We accept returns within 30 days of purchase. Just bring the receipt or order number!\", \"Our return policy allows returns within 30 days. Keep your receipt for easy processing.\", \"Returns are accepted within 30 days with a receipt or proof of purchase.\"]\n",
    "        }\n",
    "    ]\n",
    "}\n"
   ]
  },
  {
   "cell_type": "code",
   "execution_count": null,
   "metadata": {},
   "outputs": [
    {
     "data": {
      "text/html": [
       "<style>#sk-container-id-1 {color: black;background-color: white;}#sk-container-id-1 pre{padding: 0;}#sk-container-id-1 div.sk-toggleable {background-color: white;}#sk-container-id-1 label.sk-toggleable__label {cursor: pointer;display: block;width: 100%;margin-bottom: 0;padding: 0.3em;box-sizing: border-box;text-align: center;}#sk-container-id-1 label.sk-toggleable__label-arrow:before {content: \"▸\";float: left;margin-right: 0.25em;color: #696969;}#sk-container-id-1 label.sk-toggleable__label-arrow:hover:before {color: black;}#sk-container-id-1 div.sk-estimator:hover label.sk-toggleable__label-arrow:before {color: black;}#sk-container-id-1 div.sk-toggleable__content {max-height: 0;max-width: 0;overflow: hidden;text-align: left;background-color: #f0f8ff;}#sk-container-id-1 div.sk-toggleable__content pre {margin: 0.2em;color: black;border-radius: 0.25em;background-color: #f0f8ff;}#sk-container-id-1 input.sk-toggleable__control:checked~div.sk-toggleable__content {max-height: 200px;max-width: 100%;overflow: auto;}#sk-container-id-1 input.sk-toggleable__control:checked~label.sk-toggleable__label-arrow:before {content: \"▾\";}#sk-container-id-1 div.sk-estimator input.sk-toggleable__control:checked~label.sk-toggleable__label {background-color: #d4ebff;}#sk-container-id-1 div.sk-label input.sk-toggleable__control:checked~label.sk-toggleable__label {background-color: #d4ebff;}#sk-container-id-1 input.sk-hidden--visually {border: 0;clip: rect(1px 1px 1px 1px);clip: rect(1px, 1px, 1px, 1px);height: 1px;margin: -1px;overflow: hidden;padding: 0;position: absolute;width: 1px;}#sk-container-id-1 div.sk-estimator {font-family: monospace;background-color: #f0f8ff;border: 1px dotted black;border-radius: 0.25em;box-sizing: border-box;margin-bottom: 0.5em;}#sk-container-id-1 div.sk-estimator:hover {background-color: #d4ebff;}#sk-container-id-1 div.sk-parallel-item::after {content: \"\";width: 100%;border-bottom: 1px solid gray;flex-grow: 1;}#sk-container-id-1 div.sk-label:hover label.sk-toggleable__label {background-color: #d4ebff;}#sk-container-id-1 div.sk-serial::before {content: \"\";position: absolute;border-left: 1px solid gray;box-sizing: border-box;top: 0;bottom: 0;left: 50%;z-index: 0;}#sk-container-id-1 div.sk-serial {display: flex;flex-direction: column;align-items: center;background-color: white;padding-right: 0.2em;padding-left: 0.2em;position: relative;}#sk-container-id-1 div.sk-item {position: relative;z-index: 1;}#sk-container-id-1 div.sk-parallel {display: flex;align-items: stretch;justify-content: center;background-color: white;position: relative;}#sk-container-id-1 div.sk-item::before, #sk-container-id-1 div.sk-parallel-item::before {content: \"\";position: absolute;border-left: 1px solid gray;box-sizing: border-box;top: 0;bottom: 0;left: 50%;z-index: -1;}#sk-container-id-1 div.sk-parallel-item {display: flex;flex-direction: column;z-index: 1;position: relative;background-color: white;}#sk-container-id-1 div.sk-parallel-item:first-child::after {align-self: flex-end;width: 50%;}#sk-container-id-1 div.sk-parallel-item:last-child::after {align-self: flex-start;width: 50%;}#sk-container-id-1 div.sk-parallel-item:only-child::after {width: 0;}#sk-container-id-1 div.sk-dashed-wrapped {border: 1px dashed gray;margin: 0 0.4em 0.5em 0.4em;box-sizing: border-box;padding-bottom: 0.4em;background-color: white;}#sk-container-id-1 div.sk-label label {font-family: monospace;font-weight: bold;display: inline-block;line-height: 1.2em;}#sk-container-id-1 div.sk-label-container {text-align: center;}#sk-container-id-1 div.sk-container {/* jupyter's `normalize.less` sets `[hidden] { display: none; }` but bootstrap.min.css set `[hidden] { display: none !important; }` so we also need the `!important` here to be able to override the default hidden behavior on the sphinx rendered scikit-learn.org. See: https://github.com/scikit-learn/scikit-learn/issues/21755 */display: inline-block !important;position: relative;}#sk-container-id-1 div.sk-text-repr-fallback {display: none;}</style><div id=\"sk-container-id-1\" class=\"sk-top-container\"><div class=\"sk-text-repr-fallback\"><pre>LogisticRegression(max_iter=10000, random_state=0)</pre><b>In a Jupyter environment, please rerun this cell to show the HTML representation or trust the notebook. <br />On GitHub, the HTML representation is unable to render, please try loading this page with nbviewer.org.</b></div><div class=\"sk-container\" hidden><div class=\"sk-item\"><div class=\"sk-estimator sk-toggleable\"><input class=\"sk-toggleable__control sk-hidden--visually\" id=\"sk-estimator-id-1\" type=\"checkbox\" checked><label for=\"sk-estimator-id-1\" class=\"sk-toggleable__label sk-toggleable__label-arrow\">LogisticRegression</label><div class=\"sk-toggleable__content\"><pre>LogisticRegression(max_iter=10000, random_state=0)</pre></div></div></div></div></div>"
      ],
      "text/plain": [
       "LogisticRegression(max_iter=10000, random_state=0)"
      ]
     },
     "execution_count": 4,
     "metadata": {},
     "output_type": "execute_result"
    }
   ],
   "source": [
    "# Create the vectorizer and classifier\n",
    "vectorizer = TfidfVectorizer()\n",
    "clf = LogisticRegression(random_state=0, max_iter=10000)\n",
    "\n",
    "# Preprocess the data\n",
    "tags = []\n",
    "patterns = []\n",
    "for intent in intents:\n",
    "    for pattern in intent['patterns']:\n",
    "        tags.append(intent['tag'])\n",
    "        patterns.append(pattern)\n",
    "\n",
    "# training the model\n",
    "x = vectorizer.fit_transform(patterns)\n",
    "y = tags\n",
    "clf.fit(x, y)"
   ]
  },
  {
   "cell_type": "code",
   "execution_count": null,
   "metadata": {},
   "outputs": [],
   "source": [
    "def chatbot(input_text):\n",
    "    input_text = vectorizer.transform([input_text])\n",
    "    tag = clf.predict(input_text)[0]\n",
    "    for intent in intents:\n",
    "        if intent['tag'] == tag:\n",
    "            response = random.choice(intent['responses'])\n",
    "            return response"
   ]
  },
  {
   "cell_type": "code",
   "execution_count": null,
   "metadata": {},
   "outputs": [
    {
     "name": "stderr",
     "output_type": "stream",
     "text": [
      "2024-12-08 19:43:58.774 Thread 'MainThread': missing ScriptRunContext! This warning can be ignored when running in bare mode.\n",
      "2024-12-08 19:43:58.775 Thread 'MainThread': missing ScriptRunContext! This warning can be ignored when running in bare mode.\n",
      "2024-12-08 19:43:58.777 Thread 'MainThread': missing ScriptRunContext! This warning can be ignored when running in bare mode.\n",
      "2024-12-08 19:43:58.779 Thread 'MainThread': missing ScriptRunContext! This warning can be ignored when running in bare mode.\n",
      "2024-12-08 19:43:58.781 Thread 'MainThread': missing ScriptRunContext! This warning can be ignored when running in bare mode.\n",
      "2024-12-08 19:43:58.784 Thread 'MainThread': missing ScriptRunContext! This warning can be ignored when running in bare mode.\n",
      "2024-12-08 19:43:58.786 Thread 'MainThread': missing ScriptRunContext! This warning can be ignored when running in bare mode.\n",
      "2024-12-08 19:43:58.790 Thread 'MainThread': missing ScriptRunContext! This warning can be ignored when running in bare mode.\n",
      "2024-12-08 19:43:58.793 Thread 'MainThread': missing ScriptRunContext! This warning can be ignored when running in bare mode.\n",
      "2024-12-08 19:43:58.796 Thread 'MainThread': missing ScriptRunContext! This warning can be ignored when running in bare mode.\n",
      "2024-12-08 19:43:58.798 Thread 'MainThread': missing ScriptRunContext! This warning can be ignored when running in bare mode.\n",
      "2024-12-08 19:43:58.799 Thread 'MainThread': missing ScriptRunContext! This warning can be ignored when running in bare mode.\n"
     ]
    }
   ],
   "source": [
    "counter = 0\n",
    "\n",
    "def main():\n",
    "    global counter\n",
    "    st.title(\"Chatbot\")\n",
    "    st.write(\"Welcome to the chatbot. Please type a message and press Enter to start the conversation.\")\n",
    "\n",
    "    counter += 1\n",
    "    user_input = st.text_input(\"You:\", key=f\"user_input_{counter}\")\n",
    "\n",
    "    if user_input:\n",
    "        response = chatbot(user_input)\n",
    "        st.text_area(\"Chatbot:\", value=response, height=100, max_chars=None, key=f\"chatbot_response_{counter}\")\n",
    "\n",
    "        if response.lower() in ['goodbye', 'bye']:\n",
    "            st.write(\"Thank you for chatting with me. Have a great day!\")\n",
    "            st.stop()\n",
    "\n",
    "if __name__ == '__main__':\n",
    "    main()"
   ]
  },
  {
   "cell_type": "code",
   "execution_count": null,
   "metadata": {},
   "outputs": [],
   "source": []
  }
 ],
 "metadata": {
  "kernelspec": {
   "display_name": "Python 3",
   "language": "python",
   "name": "python3"
  },
  "language_info": {
   "codemirror_mode": {
    "name": "ipython",
    "version": 3
   },
   "file_extension": ".py",
   "mimetype": "text/x-python",
   "name": "python",
   "nbconvert_exporter": "python",
   "pygments_lexer": "ipython3",
   "version": "3.11.2"
  }
 },
 "nbformat": 4,
 "nbformat_minor": 2
}
